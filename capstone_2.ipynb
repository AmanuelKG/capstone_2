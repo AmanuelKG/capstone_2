{
 "cells": [
  {
   "cell_type": "markdown",
   "metadata": {},
   "source": [
    "## CAPSTONE 2"
   ]
  },
  {
   "cell_type": "markdown",
   "metadata": {},
   "source": [
    "### Narrative Analytics and Experimentation"
   ]
  },
  {
   "cell_type": "code",
   "execution_count": 68,
   "metadata": {},
   "outputs": [],
   "source": [
    "import pandas as pd\n",
    "import matplotlib.pyplot as plt\n",
    "import numpy as np\n",
    "import datetime\n",
    "%matplotlib inline"
   ]
  },
  {
   "cell_type": "code",
   "execution_count": 69,
   "metadata": {},
   "outputs": [],
   "source": [
    "data = pd.read_csv('./oakland_street_cleaning_citation/street_sweeping_data.csv')"
   ]
  },
  {
   "cell_type": "code",
   "execution_count": 72,
   "metadata": {},
   "outputs": [
    {
     "data": {
      "text/html": [
       "<div>\n",
       "<style scoped>\n",
       "    .dataframe tbody tr th:only-of-type {\n",
       "        vertical-align: middle;\n",
       "    }\n",
       "\n",
       "    .dataframe tbody tr th {\n",
       "        vertical-align: top;\n",
       "    }\n",
       "\n",
       "    .dataframe thead th {\n",
       "        text-align: right;\n",
       "    }\n",
       "</style>\n",
       "<table border=\"1\" class=\"dataframe\">\n",
       "  <thead>\n",
       "    <tr style=\"text-align: right;\">\n",
       "      <th></th>\n",
       "      <th>Citation Number</th>\n",
       "      <th>Citation Date</th>\n",
       "      <th>Citation Time</th>\n",
       "      <th>Violation Code</th>\n",
       "      <th>Violation Description</th>\n",
       "      <th>Location</th>\n",
       "      <th>Issued Amount</th>\n",
       "      <th>Location 1</th>\n",
       "      <th>Zip Codes</th>\n",
       "    </tr>\n",
       "  </thead>\n",
       "  <tbody>\n",
       "    <tr>\n",
       "      <th>0</th>\n",
       "      <td>1708958182</td>\n",
       "      <td>2013-01-11T00:00:00.000</td>\n",
       "      <td>01:06</td>\n",
       "      <td>0240-10-28T00:00:00.000</td>\n",
       "      <td>NO PARK CERTAIN HRS</td>\n",
       "      <td>4439 PARK BLVD</td>\n",
       "      <td>66.0</td>\n",
       "      <td>{'latitude': '37.808653', 'longitude': '-122.2...</td>\n",
       "      <td>1480.0</td>\n",
       "    </tr>\n",
       "    <tr>\n",
       "      <th>1</th>\n",
       "      <td>1708956126</td>\n",
       "      <td>2013-01-17T00:00:00.000</td>\n",
       "      <td>01:19</td>\n",
       "      <td>0240-10-28T00:00:00.000</td>\n",
       "      <td>NO PARK CERTAIN HRS</td>\n",
       "      <td>5376 BANCROFT AV</td>\n",
       "      <td>66.0</td>\n",
       "      <td>{'latitude': '37.771845', 'longitude': '-122.2...</td>\n",
       "      <td>1188.0</td>\n",
       "    </tr>\n",
       "    <tr>\n",
       "      <th>2</th>\n",
       "      <td>1709160493</td>\n",
       "      <td>2013-02-08T00:00:00.000</td>\n",
       "      <td>10:06</td>\n",
       "      <td>0240-10-28T00:00:00.000</td>\n",
       "      <td>NO PARK CERTAIN HRS</td>\n",
       "      <td>4119 BAYO ST</td>\n",
       "      <td>66.0</td>\n",
       "      <td>{'latitude': '37.7909', 'longitude': '-122.191...</td>\n",
       "      <td>1492.0</td>\n",
       "    </tr>\n",
       "    <tr>\n",
       "      <th>3</th>\n",
       "      <td>1709255365</td>\n",
       "      <td>2013-02-16T00:00:00.000</td>\n",
       "      <td>02:26</td>\n",
       "      <td>0240-10-28T00:00:00.000</td>\n",
       "      <td>NO PARK CERTAIN HRS</td>\n",
       "      <td>150 21ST ST</td>\n",
       "      <td>66.0</td>\n",
       "      <td>{'latitude': '37.810045', 'longitude': '-122.2...</td>\n",
       "      <td>1489.0</td>\n",
       "    </tr>\n",
       "    <tr>\n",
       "      <th>4</th>\n",
       "      <td>1709382290</td>\n",
       "      <td>2013-03-01T00:00:00.000</td>\n",
       "      <td>00:40</td>\n",
       "      <td>0240-10-28T00:00:00.000</td>\n",
       "      <td>NO PARK CERTAIN HRS</td>\n",
       "      <td>4537 BOND ST</td>\n",
       "      <td>66.0</td>\n",
       "      <td>{'latitude': '37.773132', 'longitude': '-122.2...</td>\n",
       "      <td>1188.0</td>\n",
       "    </tr>\n",
       "  </tbody>\n",
       "</table>\n",
       "</div>"
      ],
      "text/plain": [
       "   Citation Number            Citation Date Citation Time  \\\n",
       "0       1708958182  2013-01-11T00:00:00.000         01:06   \n",
       "1       1708956126  2013-01-17T00:00:00.000         01:19   \n",
       "2       1709160493  2013-02-08T00:00:00.000         10:06   \n",
       "3       1709255365  2013-02-16T00:00:00.000         02:26   \n",
       "4       1709382290  2013-03-01T00:00:00.000         00:40   \n",
       "\n",
       "            Violation Code Violation Description          Location  \\\n",
       "0  0240-10-28T00:00:00.000   NO PARK CERTAIN HRS    4439 PARK BLVD   \n",
       "1  0240-10-28T00:00:00.000   NO PARK CERTAIN HRS  5376 BANCROFT AV   \n",
       "2  0240-10-28T00:00:00.000   NO PARK CERTAIN HRS      4119 BAYO ST   \n",
       "3  0240-10-28T00:00:00.000   NO PARK CERTAIN HRS       150 21ST ST   \n",
       "4  0240-10-28T00:00:00.000   NO PARK CERTAIN HRS      4537 BOND ST   \n",
       "\n",
       "   Issued Amount                                         Location 1  Zip Codes  \n",
       "0           66.0  {'latitude': '37.808653', 'longitude': '-122.2...     1480.0  \n",
       "1           66.0  {'latitude': '37.771845', 'longitude': '-122.2...     1188.0  \n",
       "2           66.0  {'latitude': '37.7909', 'longitude': '-122.191...     1492.0  \n",
       "3           66.0  {'latitude': '37.810045', 'longitude': '-122.2...     1489.0  \n",
       "4           66.0  {'latitude': '37.773132', 'longitude': '-122.2...     1188.0  "
      ]
     },
     "execution_count": 72,
     "metadata": {},
     "output_type": "execute_result"
    }
   ],
   "source": [
    "data.head()"
   ]
  },
  {
   "cell_type": "markdown",
   "metadata": {},
   "source": [
    "For exploration purpose lets see the total number of citation for the three years across the zip codes in Oakland.From the following data information, we can observe that there are 20960 number of missing values from the the Zip Codes column.This number is 5.4% of the total column size."
   ]
  },
  {
   "cell_type": "code",
   "execution_count": 182,
   "metadata": {},
   "outputs": [
    {
     "name": "stdout",
     "output_type": "stream",
     "text": [
      "<class 'pandas.core.frame.DataFrame'>\n",
      "RangeIndex: 387385 entries, 0 to 387384\n",
      "Data columns (total 12 columns):\n",
      "Citation Number          387385 non-null int64\n",
      "Citation Date            387385 non-null datetime64[ns]\n",
      "Citation Time            387374 non-null object\n",
      "Violation Code           387385 non-null object\n",
      "Violation Description    387385 non-null object\n",
      "Location                 387385 non-null object\n",
      "Issued Amount            387385 non-null float64\n",
      "Location 1               387242 non-null object\n",
      "Zip Codes                366425 non-null float64\n",
      "month_of_date            387385 non-null int64\n",
      "day_of_date              387385 non-null int64\n",
      "year_of_date             387385 non-null int64\n",
      "dtypes: datetime64[ns](1), float64(2), int64(4), object(5)\n",
      "memory usage: 35.5+ MB\n"
     ]
    }
   ],
   "source": [
    "data.info()"
   ]
  },
  {
   "cell_type": "code",
   "execution_count": 5,
   "metadata": {},
   "outputs": [
    {
     "data": {
      "text/html": [
       "<div>\n",
       "<style scoped>\n",
       "    .dataframe tbody tr th:only-of-type {\n",
       "        vertical-align: middle;\n",
       "    }\n",
       "\n",
       "    .dataframe tbody tr th {\n",
       "        vertical-align: top;\n",
       "    }\n",
       "\n",
       "    .dataframe thead th {\n",
       "        text-align: right;\n",
       "    }\n",
       "</style>\n",
       "<table border=\"1\" class=\"dataframe\">\n",
       "  <thead>\n",
       "    <tr style=\"text-align: right;\">\n",
       "      <th></th>\n",
       "      <th>Zip Codes</th>\n",
       "    </tr>\n",
       "  </thead>\n",
       "  <tbody>\n",
       "    <tr>\n",
       "      <th>1188.0</th>\n",
       "      <td>42478</td>\n",
       "    </tr>\n",
       "    <tr>\n",
       "      <th>1484.0</th>\n",
       "      <td>41107</td>\n",
       "    </tr>\n",
       "    <tr>\n",
       "      <th>1483.0</th>\n",
       "      <td>38917</td>\n",
       "    </tr>\n",
       "    <tr>\n",
       "      <th>1489.0</th>\n",
       "      <td>35250</td>\n",
       "    </tr>\n",
       "    <tr>\n",
       "      <th>1486.0</th>\n",
       "      <td>33394</td>\n",
       "    </tr>\n",
       "    <tr>\n",
       "      <th>1485.0</th>\n",
       "      <td>26575</td>\n",
       "    </tr>\n",
       "    <tr>\n",
       "      <th>1481.0</th>\n",
       "      <td>23583</td>\n",
       "    </tr>\n",
       "    <tr>\n",
       "      <th>1487.0</th>\n",
       "      <td>22742</td>\n",
       "    </tr>\n",
       "    <tr>\n",
       "      <th>1493.0</th>\n",
       "      <td>22207</td>\n",
       "    </tr>\n",
       "    <tr>\n",
       "      <th>1480.0</th>\n",
       "      <td>19564</td>\n",
       "    </tr>\n",
       "    <tr>\n",
       "      <th>1482.0</th>\n",
       "      <td>18828</td>\n",
       "    </tr>\n",
       "    <tr>\n",
       "      <th>1488.0</th>\n",
       "      <td>14991</td>\n",
       "    </tr>\n",
       "    <tr>\n",
       "      <th>1491.0</th>\n",
       "      <td>13241</td>\n",
       "    </tr>\n",
       "    <tr>\n",
       "      <th>1492.0</th>\n",
       "      <td>13120</td>\n",
       "    </tr>\n",
       "    <tr>\n",
       "      <th>1495.0</th>\n",
       "      <td>170</td>\n",
       "    </tr>\n",
       "    <tr>\n",
       "      <th>1494.0</th>\n",
       "      <td>92</td>\n",
       "    </tr>\n",
       "    <tr>\n",
       "      <th>1169.0</th>\n",
       "      <td>75</td>\n",
       "    </tr>\n",
       "    <tr>\n",
       "      <th>1490.0</th>\n",
       "      <td>50</td>\n",
       "    </tr>\n",
       "    <tr>\n",
       "      <th>1497.0</th>\n",
       "      <td>40</td>\n",
       "    </tr>\n",
       "    <tr>\n",
       "      <th>1170.0</th>\n",
       "      <td>1</td>\n",
       "    </tr>\n",
       "  </tbody>\n",
       "</table>\n",
       "</div>"
      ],
      "text/plain": [
       "        Zip Codes\n",
       "1188.0      42478\n",
       "1484.0      41107\n",
       "1483.0      38917\n",
       "1489.0      35250\n",
       "1486.0      33394\n",
       "1485.0      26575\n",
       "1481.0      23583\n",
       "1487.0      22742\n",
       "1493.0      22207\n",
       "1480.0      19564\n",
       "1482.0      18828\n",
       "1488.0      14991\n",
       "1491.0      13241\n",
       "1492.0      13120\n",
       "1495.0        170\n",
       "1494.0         92\n",
       "1169.0         75\n",
       "1490.0         50\n",
       "1497.0         40\n",
       "1170.0          1"
      ]
     },
     "execution_count": 5,
     "metadata": {},
     "output_type": "execute_result"
    }
   ],
   "source": [
    "counts_data = pd.DataFrame(data['Zip Codes'].value_counts()) \n",
    "counts_data"
   ]
  },
  {
   "cell_type": "markdown",
   "metadata": {},
   "source": [
    "we can observe from the above numbers that the total number of street parking citation across the zipcodes has a large spread.Specially six of the zipcodes does not have a comparable number of citation with the other 14 zipcodes but from the boxplot on the above we do not have evidence that they are outliers.This might be due to a number of reasons such as being metropolitan area,suberb,industrial areas,agricultural areas,upscale residences and so forth.Or may it could be caused by the missing values from our data."
   ]
  },
  {
   "cell_type": "markdown",
   "metadata": {},
   "source": [
    "to have a general understanding about the spread of the data avross the time and check if the number of cleaning dates are the same every month in our data lets split the The Citation Date in to Year,Month and Day to do that lets run the following code;"
   ]
  },
  {
   "cell_type": "code",
   "execution_count": 76,
   "metadata": {},
   "outputs": [
    {
     "data": {
      "text/html": [
       "<div>\n",
       "<style scoped>\n",
       "    .dataframe tbody tr th:only-of-type {\n",
       "        vertical-align: middle;\n",
       "    }\n",
       "\n",
       "    .dataframe tbody tr th {\n",
       "        vertical-align: top;\n",
       "    }\n",
       "\n",
       "    .dataframe thead th {\n",
       "        text-align: right;\n",
       "    }\n",
       "</style>\n",
       "<table border=\"1\" class=\"dataframe\">\n",
       "  <thead>\n",
       "    <tr style=\"text-align: right;\">\n",
       "      <th></th>\n",
       "      <th>Citation Number</th>\n",
       "      <th>Citation Date</th>\n",
       "      <th>Citation Time</th>\n",
       "      <th>Violation Code</th>\n",
       "      <th>Violation Description</th>\n",
       "      <th>Location</th>\n",
       "      <th>Issued Amount</th>\n",
       "      <th>Location 1</th>\n",
       "      <th>Zip Codes</th>\n",
       "      <th>month_of_date</th>\n",
       "      <th>day_of_date</th>\n",
       "      <th>year_of_date</th>\n",
       "    </tr>\n",
       "  </thead>\n",
       "  <tbody>\n",
       "    <tr>\n",
       "      <th>0</th>\n",
       "      <td>1708958182</td>\n",
       "      <td>2013-01-11</td>\n",
       "      <td>01:06</td>\n",
       "      <td>0240-10-28T00:00:00.000</td>\n",
       "      <td>NO PARK CERTAIN HRS</td>\n",
       "      <td>4439 PARK BLVD</td>\n",
       "      <td>66.0</td>\n",
       "      <td>{'latitude': '37.808653', 'longitude': '-122.2...</td>\n",
       "      <td>1480.0</td>\n",
       "      <td>1</td>\n",
       "      <td>11</td>\n",
       "      <td>2013</td>\n",
       "    </tr>\n",
       "    <tr>\n",
       "      <th>1</th>\n",
       "      <td>1708956126</td>\n",
       "      <td>2013-01-17</td>\n",
       "      <td>01:19</td>\n",
       "      <td>0240-10-28T00:00:00.000</td>\n",
       "      <td>NO PARK CERTAIN HRS</td>\n",
       "      <td>5376 BANCROFT AV</td>\n",
       "      <td>66.0</td>\n",
       "      <td>{'latitude': '37.771845', 'longitude': '-122.2...</td>\n",
       "      <td>1188.0</td>\n",
       "      <td>1</td>\n",
       "      <td>17</td>\n",
       "      <td>2013</td>\n",
       "    </tr>\n",
       "    <tr>\n",
       "      <th>2</th>\n",
       "      <td>1709160493</td>\n",
       "      <td>2013-02-08</td>\n",
       "      <td>10:06</td>\n",
       "      <td>0240-10-28T00:00:00.000</td>\n",
       "      <td>NO PARK CERTAIN HRS</td>\n",
       "      <td>4119 BAYO ST</td>\n",
       "      <td>66.0</td>\n",
       "      <td>{'latitude': '37.7909', 'longitude': '-122.191...</td>\n",
       "      <td>1492.0</td>\n",
       "      <td>2</td>\n",
       "      <td>8</td>\n",
       "      <td>2013</td>\n",
       "    </tr>\n",
       "    <tr>\n",
       "      <th>3</th>\n",
       "      <td>1709255365</td>\n",
       "      <td>2013-02-16</td>\n",
       "      <td>02:26</td>\n",
       "      <td>0240-10-28T00:00:00.000</td>\n",
       "      <td>NO PARK CERTAIN HRS</td>\n",
       "      <td>150 21ST ST</td>\n",
       "      <td>66.0</td>\n",
       "      <td>{'latitude': '37.810045', 'longitude': '-122.2...</td>\n",
       "      <td>1489.0</td>\n",
       "      <td>2</td>\n",
       "      <td>16</td>\n",
       "      <td>2013</td>\n",
       "    </tr>\n",
       "    <tr>\n",
       "      <th>4</th>\n",
       "      <td>1709382290</td>\n",
       "      <td>2013-03-01</td>\n",
       "      <td>00:40</td>\n",
       "      <td>0240-10-28T00:00:00.000</td>\n",
       "      <td>NO PARK CERTAIN HRS</td>\n",
       "      <td>4537 BOND ST</td>\n",
       "      <td>66.0</td>\n",
       "      <td>{'latitude': '37.773132', 'longitude': '-122.2...</td>\n",
       "      <td>1188.0</td>\n",
       "      <td>3</td>\n",
       "      <td>1</td>\n",
       "      <td>2013</td>\n",
       "    </tr>\n",
       "  </tbody>\n",
       "</table>\n",
       "</div>"
      ],
      "text/plain": [
       "   Citation Number Citation Date Citation Time           Violation Code  \\\n",
       "0       1708958182    2013-01-11         01:06  0240-10-28T00:00:00.000   \n",
       "1       1708956126    2013-01-17         01:19  0240-10-28T00:00:00.000   \n",
       "2       1709160493    2013-02-08         10:06  0240-10-28T00:00:00.000   \n",
       "3       1709255365    2013-02-16         02:26  0240-10-28T00:00:00.000   \n",
       "4       1709382290    2013-03-01         00:40  0240-10-28T00:00:00.000   \n",
       "\n",
       "  Violation Description          Location  Issued Amount  \\\n",
       "0   NO PARK CERTAIN HRS    4439 PARK BLVD           66.0   \n",
       "1   NO PARK CERTAIN HRS  5376 BANCROFT AV           66.0   \n",
       "2   NO PARK CERTAIN HRS      4119 BAYO ST           66.0   \n",
       "3   NO PARK CERTAIN HRS       150 21ST ST           66.0   \n",
       "4   NO PARK CERTAIN HRS      4537 BOND ST           66.0   \n",
       "\n",
       "                                          Location 1  Zip Codes  \\\n",
       "0  {'latitude': '37.808653', 'longitude': '-122.2...     1480.0   \n",
       "1  {'latitude': '37.771845', 'longitude': '-122.2...     1188.0   \n",
       "2  {'latitude': '37.7909', 'longitude': '-122.191...     1492.0   \n",
       "3  {'latitude': '37.810045', 'longitude': '-122.2...     1489.0   \n",
       "4  {'latitude': '37.773132', 'longitude': '-122.2...     1188.0   \n",
       "\n",
       "   month_of_date  day_of_date  year_of_date  \n",
       "0              1           11          2013  \n",
       "1              1           17          2013  \n",
       "2              2            8          2013  \n",
       "3              2           16          2013  \n",
       "4              3            1          2013  "
      ]
     },
     "execution_count": 76,
     "metadata": {},
     "output_type": "execute_result"
    }
   ],
   "source": [
    "data['Citation Date'] = pd.to_datetime(data['Citation Date'])\n",
    "data['month_of_date'] = data['Citation Date'].dt.month\n",
    "data['day_of_date'] = data['Citation Date'].dt.day\n",
    "data['year_of_date'] = data['Citation Date'].dt.year\n",
    "data.head()"
   ]
  },
  {
   "cell_type": "markdown",
   "metadata": {},
   "source": [
    "To understand the time effect on the overall number of citation over the three years data period,i plotted the number of citation per month.From the histogram plots below we can observe that for 2015 the data collection was until the begning of may.But for the 4 first month we can see that the number of citation has almost the same patern as the previous two years which indicates there was not significant visual effect of time in compromising the number of street cleaning citations. "
   ]
  },
  {
   "cell_type": "code",
   "execution_count": 209,
   "metadata": {},
   "outputs": [
    {
     "data": {
      "image/png": "[encoded data removed]",
      "text/plain": [
       "<Figure size 864x576 with 4 Axes>"
      ]
     },
     "metadata": {
      "needs_background": "light"
     },
     "output_type": "display_data"
    }
   ],
   "source": [
    "datetime_indexed_data = data[['year_of_date','month_of_date','day_of_date']].set_index(['year_of_date',\n",
    "                                                                               'month_of_date','day_of_date'], \n",
    "                                                                                       drop = False)\n",
    "datetime_indexed_data['month_of_date'].hist(by = datetime_indexed_data['year_of_date'], figsize = (12,8), bins = 12);"
   ]
  },
  {
   "cell_type": "markdown",
   "metadata": {},
   "source": [
    "Now lets see the distribution per day using histogram to have more clearer view."
   ]
  },
  {
   "cell_type": "code",
   "execution_count": 211,
   "metadata": {},
   "outputs": [
    {
     "data": {
      "image/png": "[encoded data removed]",
      "text/plain": [
       "<Figure size 864x576 with 4 Axes>"
      ]
     },
     "metadata": {
      "needs_background": "light"
     },
     "output_type": "display_data"
    }
   ],
   "source": [
    "datetime_indexed_data['day_of_date'].hist(by = datetime_indexed_data['year_of_date'], figsize = (12,8), bins = 31);"
   ]
  },
  {
   "cell_type": "code",
   "execution_count": 208,
   "metadata": {},
   "outputs": [
    {
     "data": {
      "text/html": [
       "<div>\n",
       "<style scoped>\n",
       "    .dataframe tbody tr th:only-of-type {\n",
       "        vertical-align: middle;\n",
       "    }\n",
       "\n",
       "    .dataframe tbody tr th {\n",
       "        vertical-align: top;\n",
       "    }\n",
       "\n",
       "    .dataframe thead th {\n",
       "        text-align: right;\n",
       "    }\n",
       "</style>\n",
       "<table border=\"1\" class=\"dataframe\">\n",
       "  <thead>\n",
       "    <tr style=\"text-align: right;\">\n",
       "      <th></th>\n",
       "      <th></th>\n",
       "      <th></th>\n",
       "    </tr>\n",
       "    <tr>\n",
       "      <th>year_of_date</th>\n",
       "      <th>month_of_date</th>\n",
       "      <th>day_of_date</th>\n",
       "    </tr>\n",
       "  </thead>\n",
       "  <tbody>\n",
       "    <tr>\n",
       "      <th rowspan=\"30\" valign=\"top\">2013</th>\n",
       "      <th rowspan=\"2\" valign=\"top\">1</th>\n",
       "      <th>11</th>\n",
       "    </tr>\n",
       "    <tr>\n",
       "      <th>17</th>\n",
       "    </tr>\n",
       "    <tr>\n",
       "      <th rowspan=\"2\" valign=\"top\">2</th>\n",
       "      <th>8</th>\n",
       "    </tr>\n",
       "    <tr>\n",
       "      <th>16</th>\n",
       "    </tr>\n",
       "    <tr>\n",
       "      <th rowspan=\"2\" valign=\"top\">3</th>\n",
       "      <th>1</th>\n",
       "    </tr>\n",
       "    <tr>\n",
       "      <th>27</th>\n",
       "    </tr>\n",
       "    <tr>\n",
       "      <th rowspan=\"3\" valign=\"top\">4</th>\n",
       "      <th>7</th>\n",
       "    </tr>\n",
       "    <tr>\n",
       "      <th>22</th>\n",
       "    </tr>\n",
       "    <tr>\n",
       "      <th>30</th>\n",
       "    </tr>\n",
       "    <tr>\n",
       "      <th rowspan=\"2\" valign=\"top\">5</th>\n",
       "      <th>1</th>\n",
       "    </tr>\n",
       "    <tr>\n",
       "      <th>5</th>\n",
       "    </tr>\n",
       "    <tr>\n",
       "      <th rowspan=\"2\" valign=\"top\">6</th>\n",
       "      <th>10</th>\n",
       "    </tr>\n",
       "    <tr>\n",
       "      <th>25</th>\n",
       "    </tr>\n",
       "    <tr>\n",
       "      <th rowspan=\"5\" valign=\"top\">7</th>\n",
       "      <th>3</th>\n",
       "    </tr>\n",
       "    <tr>\n",
       "      <th>5</th>\n",
       "    </tr>\n",
       "    <tr>\n",
       "      <th>22</th>\n",
       "    </tr>\n",
       "    <tr>\n",
       "      <th>22</th>\n",
       "    </tr>\n",
       "    <tr>\n",
       "      <th>27</th>\n",
       "    </tr>\n",
       "    <tr>\n",
       "      <th rowspan=\"4\" valign=\"top\">8</th>\n",
       "      <th>13</th>\n",
       "    </tr>\n",
       "    <tr>\n",
       "      <th>26</th>\n",
       "    </tr>\n",
       "    <tr>\n",
       "      <th>27</th>\n",
       "    </tr>\n",
       "    <tr>\n",
       "      <th>28</th>\n",
       "    </tr>\n",
       "    <tr>\n",
       "      <th rowspan=\"3\" valign=\"top\">9</th>\n",
       "      <th>3</th>\n",
       "    </tr>\n",
       "    <tr>\n",
       "      <th>10</th>\n",
       "    </tr>\n",
       "    <tr>\n",
       "      <th>25</th>\n",
       "    </tr>\n",
       "    <tr>\n",
       "      <th rowspan=\"2\" valign=\"top\">10</th>\n",
       "      <th>2</th>\n",
       "    </tr>\n",
       "    <tr>\n",
       "      <th>3</th>\n",
       "    </tr>\n",
       "    <tr>\n",
       "      <th rowspan=\"3\" valign=\"top\">11</th>\n",
       "      <th>3</th>\n",
       "    </tr>\n",
       "    <tr>\n",
       "      <th>18</th>\n",
       "    </tr>\n",
       "    <tr>\n",
       "      <th>22</th>\n",
       "    </tr>\n",
       "  </tbody>\n",
       "</table>\n",
       "</div>"
      ],
      "text/plain": [
       "Empty DataFrame\n",
       "Columns: []\n",
       "Index: [(2013, 1, 11), (2013, 1, 17), (2013, 2, 8), (2013, 2, 16), (2013, 3, 1), (2013, 3, 27), (2013, 4, 7), (2013, 4, 22), (2013, 4, 30), (2013, 5, 1), (2013, 5, 5), (2013, 6, 10), (2013, 6, 25), (2013, 7, 3), (2013, 7, 5), (2013, 7, 22), (2013, 7, 22), (2013, 7, 27), (2013, 8, 13), (2013, 8, 26), (2013, 8, 27), (2013, 8, 28), (2013, 9, 3), (2013, 9, 10), (2013, 9, 25), (2013, 10, 2), (2013, 10, 3), (2013, 11, 3), (2013, 11, 18), (2013, 11, 22)]"
      ]
     },
     "execution_count": 208,
     "metadata": {},
     "output_type": "execute_result"
    }
   ],
   "source": [
    "datetime_indexed_data = data[['year_of_date','month_of_date','day_of_date']].set_index(['year_of_date',\n",
    "                                                                               'month_of_date','day_of_date'])\n",
    "datetime_indexed_data.head(30)"
   ]
  },
  {
   "cell_type": "markdown",
   "metadata": {},
   "source": [
    "from the above data frame we can understand that the number of cleaning dates are not uniform across the months for instance we can see it reflected in 2013.January through March are 2 days then on April 3 days and then on May and June again 2 on July 5 and so forth."
   ]
  },
  {
   "cell_type": "code",
   "execution_count": 7,
   "metadata": {},
   "outputs": [
    {
     "data": {
      "text/plain": [
       "98899"
      ]
     },
     "execution_count": 7,
     "metadata": {},
     "output_type": "execute_result"
    }
   ],
   "source": [
    "data['Location'].value_counts().count()"
   ]
  },
  {
   "cell_type": "markdown",
   "metadata": {},
   "source": [
    "The above value shows the total number of streets that parking citation was recorded."
   ]
  },
  {
   "cell_type": "markdown",
   "metadata": {},
   "source": [
    "From the street parking citation fines Issued Amount lets look how much revenue does the city of Oakland collected in the years 2013 - 2015."
   ]
  },
  {
   "cell_type": "code",
   "execution_count": 8,
   "metadata": {},
   "outputs": [
    {
     "data": {
      "text/plain": [
       "25567690.0"
      ]
     },
     "execution_count": 8,
     "metadata": {},
     "output_type": "execute_result"
    }
   ],
   "source": [
    "data['Issued Amount'].sum()"
   ]
  },
  {
   "cell_type": "markdown",
   "metadata": {},
   "source": [
    "The city of Oakland pays millions of dollars to clean the streets,And because of cars parked on the streets the cleaning work is not as efficient as it should be.On my understanding even if the city gets millions of dollars on citation,it would be an amount the city would rather be willing to pay for an efficient cleaning work.This leads me to conclude that millions of dollars is wasted because of luck of unawareness and causiousness during parking vehicles on streets.Even if the city of Oakland considers that as an important source of revenue,this study will support the push by a lowmakers for a fare act in regarding to public financial matters."
   ]
  },
  {
   "cell_type": "markdown",
   "metadata": {},
   "source": [
    "From the above senario,we have seen that how much money is wasted over the three years period due to street parking citations;and it should be understood that the city cleanliness is compromised and many people fall in to paying these painfull fines;I am one of them.Based on my situation and from stories told by friends and family i have a general understanding that this incidences happen because of luck of awareness during parking or confusion of days or distractions during parking and so forth.The key question is how do we alert people so that they know they are parking in a wrong street? based on the above causes of street parking citations which are undeliberate, and from public opinions, another additional alert mechaism on top of the sign posts which indicate day and time of street cleaning would have a significant effect in minimizing citations."
   ]
  },
  {
   "cell_type": "markdown",
   "metadata": {},
   "source": [
    "*Flashing lights on top of parking sign posts would grab the attention of people who try to park during street parking periods and this would intern reduce the street parking citations.*"
   ]
  },
  {
   "cell_type": "markdown",
   "metadata": {},
   "source": [
    "Before moving forward with the experimentation it is very good to have a summerized understanding of our data environment to come up with an effective design to implement our test of significance.From our data exploration on the above we can present the following key points;\n",
    "* the parking enforcement officers may not properly fill the Zip Code part during issuance of violation tickets,this was refleceted in the large number of missing values in the Zip Code column.Therefore for he ease of data cleaning and over all effective analysis it is good to remind the officers to fill the information as complete as they can.\n",
    "* street cleaning schedule differs from one location to another.in some locations the streets are cleaned once a month and in some loations 4 times a month and in some 3 times per month and so forth.This claim can be supported from the above data exploration and from city of oakland's website on street sweeping maps. \n"
   ]
  },
  {
   "cell_type": "markdown",
   "metadata": {},
   "source": [
    "keeping in mind the characterstics of our experimentation data form,In order to check the validity of the above hypothesis, lets design an A/B experimentation to study the effect of our hypothetical treatment(puting light alert on the sign post) on reducing street cleaning parking citation.\n",
    "The two groups we want to compare in this case are the streets signs with flashing light alert (treatment group) and streets signs without(control group).I have list the procedure that i followed while designing the experimentation as follows for easy followup;\n",
    "* The first step is determining our sample size;lets simple random sample 2 independent samples of 20 streets(Location) each from each Zip Code.\n",
    "* This will bring us to a total of 400 samples in control and 400 samples in treatment groups for all 20 Zip Codes.\n",
    "* Our key metric is the number of Street parking citations per day and we will collect that information from the sampled street for both the control and treatment groups."
   ]
  },
  {
   "cell_type": "markdown",
   "metadata": {},
   "source": [
    "* First and for most lets draw 400 random samples for the next two months from all the Zip Codes streets(Location)and record the number of citations per day for the purpose of A/A testing.\n",
    "* And collect another 400 random samples independent to the previous but drawn the same way and record the number of citations per day.Then compare the two samples to determine if their mean number of citations are not different.If there is no significant difference in the sample means then move forward and continue with the A/B test which is comparing the treatment group with the control group.In doing the A/B testing ;\n",
    "* I would prefer to do the Rollout in two phases i.e 50:50;collecting the first 200 random samples from control which are independent to the previous two drawn samples of 400 and 200 random sample from the treatment groups independent to the previously drawn all samples for the first month.\n",
    "* for the 20 streets on our treatment group we install the alerting devices and collect the data.Then compare the first phase datas from the  control and treatment group to see how our experimentation is doing.\n",
    "* then after analysing the first phase i would Rollout the second phase and collect the data for 200 streets more in a sample for the first month in the same way as previous samples.And then analyse the difference.If the the mean number of street parking citation is decreased by over 10%,then the Flashing light alert on top of sign posts has a significant effect on reducing Street cleaning parking citations.therefore it is a good practice to install it throughout the city."
   ]
  },
  {
   "cell_type": "code",
   "execution_count": null,
   "metadata": {},
   "outputs": [],
   "source": []
  }
 ],
 "metadata": {
  "kernelspec": {
   "display_name": "Python 3",
   "language": "python",
   "name": "python3"
  },
  "language_info": {
   "codemirror_mode": {
    "name": "ipython",
    "version": 3
   },
   "file_extension": ".py",
   "mimetype": "text/x-python",
   "name": "python",
   "nbconvert_exporter": "python",
   "pygments_lexer": "ipython3",
   "version": "3.7.3"
  }
 },
 "nbformat": 4,
 "nbformat_minor": 2
}
